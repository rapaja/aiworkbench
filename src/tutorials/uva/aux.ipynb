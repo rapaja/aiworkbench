{
 "cells": [
  {
   "cell_type": "code",
   "execution_count": null,
   "metadata": {},
   "outputs": [],
   "source": [
    "def detect_and_init_device(seed=1982):\n",
    "    import torch, torch.mps\n",
    "    \n",
    "    torch.manual_seed(seed)\n",
    "    if torch.cuda.is_available():\n",
    "        torch.cuda.manual_seed(seed)\n",
    "        torch.cuda.manual_seed_all(seed)\n",
    "        torch.backends.cudnn.deterministic = True\n",
    "        torch.backends.cudnn.benchmark = False\n",
    "        device_name = \"cuda\"\n",
    "    elif torch.backends.mps.is_available():\n",
    "        torch.mps.manual_seed(seed)\n",
    "        torch.backends.mps.determinstic = True\n",
    "        torch.backends.mps.benchmark = False\n",
    "        device_name = \"mps\"\n",
    "    else:\n",
    "        device_name = \"cpu\"\n",
    "    return torch.device(device_name)\n"
   ]
  }
 ],
 "metadata": {
  "language_info": {
   "name": "python"
  },
  "orig_nbformat": 4
 },
 "nbformat": 4,
 "nbformat_minor": 2
}
