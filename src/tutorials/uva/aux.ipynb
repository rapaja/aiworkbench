{
 "cells": [
  {
   "cell_type": "code",
   "execution_count": null,
   "metadata": {},
   "outputs": [],
   "source": [
    "def detect_and_init_device(seed=1982):\n",
    "    import torch, torch.mps\n",
    "    \n",
    "    torch.manual_seed(seed)\n",
    "    if torch.cuda.is_available():\n",
    "        torch.cuda.manual_seed(seed)\n",
    "        torch.cuda.manual_seed_all(seed)\n",
    "        torch.backends.cudnn.deterministic = True\n",
    "        torch.backends.cudnn.benchmark = False\n",
    "        device_name = \"cuda\"\n",
    "    elif torch.backends.mps.is_available():\n",
    "        torch.mps.manual_seed(seed)\n",
    "        torch.backends.mps.determinstic = True\n",
    "        torch.backends.mps.benchmark = False\n",
    "        device_name = \"mps\"\n",
    "    else:\n",
    "        device_name = \"cpu\"\n",
    "    return torch.device(device_name)\n"
   ]
  }
 ],
 "metadata": {
  "kernelspec": {
   "display_name": "Python 3 (ipykernel)",
   "language": "python",
   "name": "python3"
  },
  "language_info": {
   "codemirror_mode": {
    "name": "ipython",
    "version": 3
   },
   "file_extension": ".py",
   "mimetype": "text/x-python",
   "name": "python",
   "nbconvert_exporter": "python",
   "pygments_lexer": "ipython3",
   "version": "3.9.6"
  }
 },
 "nbformat": 4,
 "nbformat_minor": 2
}
