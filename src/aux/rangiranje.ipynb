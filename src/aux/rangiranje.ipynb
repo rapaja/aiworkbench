{
 "cells": [
  {
   "cell_type": "code",
   "execution_count": 21,
   "id": "8f9a6c5d",
   "metadata": {},
   "outputs": [],
   "source": [
    "import pandas as pd\n",
    "import matplotlib.pyplot as plt\n",
    "import seaborn"
   ]
  },
  {
   "cell_type": "code",
   "execution_count": 9,
   "id": "6da8c9f1",
   "metadata": {},
   "outputs": [],
   "source": [
    "df = pd.read_csv(\"rangiranje.csv\", delimiter=\";\")"
   ]
  },
  {
   "cell_type": "code",
   "execution_count": 10,
   "id": "9d58997f",
   "metadata": {},
   "outputs": [
    {
     "name": "stdout",
     "output_type": "stream",
     "text": [
      "<class 'pandas.core.frame.DataFrame'>\n",
      "RangeIndex: 239 entries, 0 to 238\n",
      "Data columns (total 12 columns):\n",
      " #   Column        Non-Null Count  Dtype  \n",
      "---  ------        --------------  -----  \n",
      " 0   prvaZelja     233 non-null    object \n",
      " 1   drugaZelja    233 non-null    object \n",
      " 2   trecaZelja    233 non-null    object \n",
      " 3   indeks        239 non-null    object \n",
      " 4   STUD_PREZIME  239 non-null    object \n",
      " 5   STUD_IMEST    239 non-null    object \n",
      " 6   koef          239 non-null    float64\n",
      " 7   prelaz        1 non-null      object \n",
      " 8   espb          239 non-null    int64  \n",
      " 9   prosek        239 non-null    float64\n",
      " 10  meseci        239 non-null    float64\n",
      " 11  espb2022      239 non-null    int64  \n",
      "dtypes: float64(3), int64(2), object(7)\n",
      "memory usage: 22.5+ KB\n"
     ]
    }
   ],
   "source": [
    "df.info()"
   ]
  },
  {
   "cell_type": "code",
   "execution_count": 14,
   "id": "d4bf46e2",
   "metadata": {},
   "outputs": [
    {
     "data": {
      "text/html": [
       "<div>\n",
       "<style scoped>\n",
       "    .dataframe tbody tr th:only-of-type {\n",
       "        vertical-align: middle;\n",
       "    }\n",
       "\n",
       "    .dataframe tbody tr th {\n",
       "        vertical-align: top;\n",
       "    }\n",
       "\n",
       "    .dataframe thead th {\n",
       "        text-align: right;\n",
       "    }\n",
       "</style>\n",
       "<table border=\"1\" class=\"dataframe\">\n",
       "  <thead>\n",
       "    <tr style=\"text-align: right;\">\n",
       "      <th></th>\n",
       "      <th>prvaZelja</th>\n",
       "      <th>drugaZelja</th>\n",
       "      <th>trecaZelja</th>\n",
       "      <th>indeks</th>\n",
       "      <th>STUD_PREZIME</th>\n",
       "      <th>STUD_IMEST</th>\n",
       "      <th>koef</th>\n",
       "      <th>prelaz</th>\n",
       "      <th>espb</th>\n",
       "      <th>prosek</th>\n",
       "      <th>meseci</th>\n",
       "      <th>espb2022</th>\n",
       "    </tr>\n",
       "  </thead>\n",
       "  <tbody>\n",
       "    <tr>\n",
       "      <th>0</th>\n",
       "      <td>Primenjene računarske nauke i informatika</td>\n",
       "      <td>Računarska tehnika i računarske komunikacije</td>\n",
       "      <td>Računarski upravljački sistemi</td>\n",
       "      <td>RA 8/2021</td>\n",
       "      <td>Kušlaković</td>\n",
       "      <td>Nikola</td>\n",
       "      <td>100.0000</td>\n",
       "      <td>NaN</td>\n",
       "      <td>120</td>\n",
       "      <td>10.000000</td>\n",
       "      <td>24.0</td>\n",
       "      <td>60</td>\n",
       "    </tr>\n",
       "    <tr>\n",
       "      <th>1</th>\n",
       "      <td>Primenjene računarske nauke i informatika</td>\n",
       "      <td>Računarski upravljački sistemi</td>\n",
       "      <td>Računarska tehnika i računarske komunikacije</td>\n",
       "      <td>RA 29/2021</td>\n",
       "      <td>Đukić</td>\n",
       "      <td>Strahinja</td>\n",
       "      <td>99.4117</td>\n",
       "      <td>NaN</td>\n",
       "      <td>120</td>\n",
       "      <td>9.941176</td>\n",
       "      <td>24.0</td>\n",
       "      <td>60</td>\n",
       "    </tr>\n",
       "    <tr>\n",
       "      <th>2</th>\n",
       "      <td>Primenjene računarske nauke i informatika</td>\n",
       "      <td>Računarski upravljački sistemi</td>\n",
       "      <td>Računarska tehnika i računarske komunikacije</td>\n",
       "      <td>RA 17/2021</td>\n",
       "      <td>Petrović</td>\n",
       "      <td>Katarina</td>\n",
       "      <td>97.0588</td>\n",
       "      <td>NaN</td>\n",
       "      <td>120</td>\n",
       "      <td>9.705882</td>\n",
       "      <td>24.0</td>\n",
       "      <td>60</td>\n",
       "    </tr>\n",
       "    <tr>\n",
       "      <th>3</th>\n",
       "      <td>Primenjene računarske nauke i informatika</td>\n",
       "      <td>Računarski upravljački sistemi</td>\n",
       "      <td>Računarska tehnika i računarske komunikacije</td>\n",
       "      <td>RA 47/2021</td>\n",
       "      <td>Homa</td>\n",
       "      <td>Davor</td>\n",
       "      <td>95.8823</td>\n",
       "      <td>NaN</td>\n",
       "      <td>120</td>\n",
       "      <td>9.588235</td>\n",
       "      <td>24.0</td>\n",
       "      <td>60</td>\n",
       "    </tr>\n",
       "    <tr>\n",
       "      <th>4</th>\n",
       "      <td>Računarska tehnika i računarske komunikacije</td>\n",
       "      <td>Računarski upravljački sistemi</td>\n",
       "      <td>Primenjene računarske nauke i informatika</td>\n",
       "      <td>RA 61/2021</td>\n",
       "      <td>Rešetar</td>\n",
       "      <td>Ante</td>\n",
       "      <td>95.2941</td>\n",
       "      <td>NaN</td>\n",
       "      <td>120</td>\n",
       "      <td>9.529411</td>\n",
       "      <td>24.0</td>\n",
       "      <td>60</td>\n",
       "    </tr>\n",
       "  </tbody>\n",
       "</table>\n",
       "</div>"
      ],
      "text/plain": [
       "                                      prvaZelja  \\\n",
       "0     Primenjene računarske nauke i informatika   \n",
       "1     Primenjene računarske nauke i informatika   \n",
       "2     Primenjene računarske nauke i informatika   \n",
       "3     Primenjene računarske nauke i informatika   \n",
       "4  Računarska tehnika i računarske komunikacije   \n",
       "\n",
       "                                     drugaZelja  \\\n",
       "0  Računarska tehnika i računarske komunikacije   \n",
       "1                Računarski upravljački sistemi   \n",
       "2                Računarski upravljački sistemi   \n",
       "3                Računarski upravljački sistemi   \n",
       "4                Računarski upravljački sistemi   \n",
       "\n",
       "                                     trecaZelja      indeks STUD_PREZIME  \\\n",
       "0                Računarski upravljački sistemi   RA 8/2021   Kušlaković   \n",
       "1  Računarska tehnika i računarske komunikacije  RA 29/2021        Đukić   \n",
       "2  Računarska tehnika i računarske komunikacije  RA 17/2021     Petrović   \n",
       "3  Računarska tehnika i računarske komunikacije  RA 47/2021         Homa   \n",
       "4     Primenjene računarske nauke i informatika  RA 61/2021      Rešetar   \n",
       "\n",
       "  STUD_IMEST      koef prelaz  espb     prosek  meseci  espb2022  \n",
       "0     Nikola  100.0000    NaN   120  10.000000    24.0        60  \n",
       "1  Strahinja   99.4117    NaN   120   9.941176    24.0        60  \n",
       "2   Katarina   97.0588    NaN   120   9.705882    24.0        60  \n",
       "3      Davor   95.8823    NaN   120   9.588235    24.0        60  \n",
       "4       Ante   95.2941    NaN   120   9.529411    24.0        60  "
      ]
     },
     "execution_count": 14,
     "metadata": {},
     "output_type": "execute_result"
    }
   ],
   "source": [
    "df.head()"
   ]
  },
  {
   "cell_type": "code",
   "execution_count": 17,
   "id": "eabc78ee",
   "metadata": {},
   "outputs": [],
   "source": [
    "df.replace(\"Primenjene računarske nauke i informatika\", \"PRNI\", inplace=True)\n",
    "df.replace(\"Računarska tehnika i računarske komunikacije\", \"RTRK\", inplace=True)\n",
    "df.replace(\"Računarski upravljački sistemi\", \"RUS\", inplace=True)"
   ]
  },
  {
   "cell_type": "code",
   "execution_count": 25,
   "id": "b59bb1fe",
   "metadata": {},
   "outputs": [
    {
     "data": {
      "image/png": "[encoded data removed]",
      "text/plain": [
       "<Figure size 600x600 with 4 Axes>"
      ]
     },
     "metadata": {},
     "output_type": "display_data"
    }
   ],
   "source": [
    "axes = df.hist(['koef'], by='prvaZelja',bins=10, layout=(2,2),\n",
    "               legend=True, sharex=True,sharey=True\n",
    "               figsize=(6,6))\n",
    "for ax in axes.flatten():\n",
    "    ax.set_xlabel('koef')\n",
    "    ax.set_ylabel('Count')\n",
    "    ax.set_ylim(bottom=1,top=100)"
   ]
  },
  {
   "cell_type": "code",
   "execution_count": 37,
   "id": "eb6343b6",
   "metadata": {},
   "outputs": [
    {
     "data": {
      "text/plain": [
       "<Axes: xlabel='koef', ylabel='Percent'>"
      ]
     },
     "execution_count": 37,
     "metadata": {},
     "output_type": "execute_result"
    },
    {
     "data": {
      "image/png": "[encoded data removed]",
      "text/plain": [
       "<Figure size 800x800 with 1 Axes>"
      ]
     },
     "metadata": {},
     "output_type": "display_data"
    }
   ],
   "source": [
    "fig, ax = plt.subplots(figsize=(8, 8))\n",
    "seaborn.histplot(data=df, x='koef', hue='prvaZelja', stat='percent', edgecolor=None, multiple=\"dodge\")\n",
    "# ax.set_title('Glucose')"
   ]
  },
  {
   "cell_type": "code",
   "execution_count": null,
   "id": "6f1311e3",
   "metadata": {},
   "outputs": [],
   "source": []
  }
 ],
 "metadata": {
  "kernelspec": {
   "display_name": "Python 3 (ipykernel)",
   "language": "python",
   "name": "python3"
  },
  "language_info": {
   "codemirror_mode": {
    "name": "ipython",
    "version": 3
   },
   "file_extension": ".py",
   "mimetype": "text/x-python",
   "name": "python",
   "nbconvert_exporter": "python",
   "pygments_lexer": "ipython3",
   "version": "3.9.6"
  }
 },
 "nbformat": 4,
 "nbformat_minor": 5
}
