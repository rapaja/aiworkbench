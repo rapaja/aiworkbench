{
 "cells": [
  {
   "cell_type": "code",
   "execution_count": 13,
   "metadata": {
    "collapsed": true
   },
   "outputs": [],
   "source": [
    "import random\n",
    "import numpy as np\n",
    "import matplotlib.pyplot as plt\n",
    "from tqdm.notebook import trange\n",
    "\n",
    "import torch\n",
    "from torch.utils.tensorboard import SummaryWriter\n",
    "\n",
    "from Gridworld import Gridworld"
   ]
  },
  {
   "cell_type": "markdown",
   "source": [
    "Run `tensorboard` using `tensorboard --logdirs=runs`"
   ],
   "metadata": {
    "collapsed": false
   }
  },
  {
   "cell_type": "code",
   "execution_count": 14,
   "outputs": [],
   "source": [
    "def render_strategy(game, model):\n",
    "    action_set_vis = {0: '↑', 1: '↓', 2: '←', 3: '→'}\n",
    "    occupied = [game.board.components[piece].pos\n",
    "                for piece in [\"Goal\", \"Pit\", \"Wall\"]]\n",
    "    game_render = game.display()\n",
    "    for row in range(4):\n",
    "        for col in range(4):\n",
    "            if (row, col) not in occupied:\n",
    "                game.board.movePiece(\"Player\", (row, col))\n",
    "                game_state_ = game.board.render_np().reshape(1, 64)\n",
    "                game_state = torch.from_numpy(game_state_).float()\n",
    "                q_predicted = model(game_state)\n",
    "                action_ = torch.argmax(q_predicted).item()\n",
    "                action = action_set_vis[action_]\n",
    "                game_render[row, col] = action\n",
    "    return game_render"
   ],
   "metadata": {
    "collapsed": false
   }
  },
  {
   "cell_type": "code",
   "execution_count": 15,
   "outputs": [],
   "source": [
    "def create_q_network(game_size, h1_size=150, h2_size=100):\n",
    "    return torch.nn.Sequential(\n",
    "        torch.nn.Linear(game_size**3, h1_size),\n",
    "        torch.nn.ReLU(),\n",
    "        torch.nn.Linear(h1_size, h2_size),\n",
    "        torch.nn.ReLU(),\n",
    "        torch.nn.Linear(h2_size, 4))"
   ],
   "metadata": {
    "collapsed": false
   }
  },
  {
   "cell_type": "code",
   "execution_count": 16,
   "outputs": [],
   "source": [
    "def compute_epsilon(epsilon_current, delta_epsilon, epsilon_min):\n",
    "    epsilon_new = epsilon_current - delta_epsilon\n",
    "    if epsilon_new < epsilon_min:\n",
    "        epsilon_new = epsilon_min\n",
    "    return epsilon_new"
   ],
   "metadata": {
    "collapsed": false
   }
  },
  {
   "cell_type": "code",
   "execution_count": 17,
   "outputs": [],
   "source": [
    "action_set = {0: 'u', 1: 'd', 2: 'l', 3: 'r'}\n",
    "\n",
    "def take_action(game, action, noise_level=0.1):\n",
    "    if action is not None:\n",
    "        game_action = action_set[action]\n",
    "        game.makeMove(game_action)\n",
    "        reward = game.reward()\n",
    "    else:\n",
    "        reward = None\n",
    "    new_state_ = game.board.render_np().reshape(1, 64) + noise_level*np.random.rand(1, 64)\n",
    "    new_state = torch.from_numpy(new_state_).float()\n",
    "    return new_state, reward"
   ],
   "metadata": {
    "collapsed": false
   }
  },
  {
   "cell_type": "code",
   "execution_count": 18,
   "outputs": [],
   "source": [
    "def choose_action(model, state, epsilon):\n",
    "    q_values = model(state)\n",
    "    q_values_ = q_values.data.numpy()\n",
    "    if random.random() < epsilon:\n",
    "        action = np.random.randint(0, 4)\n",
    "    else:\n",
    "        action = np.argmax(q_values_)\n",
    "    return action, q_values"
   ],
   "metadata": {
    "collapsed": false
   }
  },
  {
   "cell_type": "code",
   "execution_count": 48,
   "outputs": [],
   "source": [
    "def compute_loss(loss_function, model, experience, discounting_factor):\n",
    "    state, action, reward, new_state, done = experience\n",
    "    q_value = model(state)\n",
    "    with torch.no_grad():\n",
    "        new_q_value = model(new_state)\n",
    "\n",
    "    max_q_value = torch.max(new_q_value)\n",
    "    # target_ = reward + discounting_factor * max_q_value if not done else reward\n",
    "    target_ = reward + discounting_factor * (1 - done) * max_q_value\n",
    "    target = torch.Tensor([target_]).reshape(1)\n",
    "    predict = q_value.squeeze()[action].reshape(1)\n",
    "    return loss_function(predict, target.detach())"
   ],
   "metadata": {
    "collapsed": false
   }
  },
  {
   "cell_type": "code",
   "execution_count": 49,
   "outputs": [],
   "source": [
    "def create_loss_and_optimizer(model, learning_rate):\n",
    "    loss_function = torch.nn.MSELoss()\n",
    "    optimizer = torch.optim.Adam(model.parameters(), lr=learning_rate)\n",
    "    return loss_function, optimizer"
   ],
   "metadata": {
    "collapsed": false
   }
  },
  {
   "cell_type": "code",
   "execution_count": 50,
   "outputs": [],
   "source": [
    "def update_weights(optimizer, loss_value):\n",
    "    optimizer.zero_grad()\n",
    "    loss_value.backward()\n",
    "    optimizer.step()"
   ],
   "metadata": {
    "collapsed": false
   }
  },
  {
   "cell_type": "code",
   "execution_count": 51,
   "outputs": [
    {
     "data": {
      "text/plain": "array([['+', '-', '↑', '↑'],\n       ['↑', 'W', '↑', '↑'],\n       ['↑', '↑', '↑', '↑'],\n       ['↑', '↑', '↑', '↑']], dtype='<U2')"
     },
     "execution_count": 51,
     "metadata": {},
     "output_type": "execute_result"
    }
   ],
   "source": [
    "q_network = create_q_network(game_size=4)\n",
    "\n",
    "gw = Gridworld(size=4, mode='static')\n",
    "render_strategy(gw, q_network)"
   ],
   "metadata": {
    "collapsed": false
   }
  },
  {
   "cell_type": "code",
   "execution_count": 52,
   "outputs": [
    {
     "data": {
      "text/plain": "  0%|          | 0/400 [00:00<?, ?it/s]",
      "application/vnd.jupyter.widget-view+json": {
       "version_major": 2,
       "version_minor": 0,
       "model_id": "7611432e80a045ba93df66c3c495f44f"
      }
     },
     "metadata": {},
     "output_type": "display_data"
    }
   ],
   "source": [
    "gamma = 0.9\n",
    "eps = 1.0\n",
    "\n",
    "epochs = 400\n",
    "losses = []\n",
    "actions_per_game = []\n",
    "max_actions_per_game = 50\n",
    "\n",
    "writer = SummaryWriter(flush_secs=1)\n",
    "\n",
    "loss_fn, qnn_optimizer = create_loss_and_optimizer(q_network, 1e-3)\n",
    "for i in (pbar := trange(epochs)):\n",
    "\n",
    "    gw = Gridworld(size=4, mode='static')\n",
    "    s, _ = take_action(gw, action=None)\n",
    "\n",
    "    actions_taken = 0\n",
    "    total_loss = 0\n",
    "    while True:\n",
    "        a, q = choose_action(q_network, s, eps)\n",
    "\n",
    "        new_s, r = take_action(gw, a)\n",
    "        actions_taken += 1\n",
    "        terminate = (r != -1) or \\\n",
    "                    (actions_taken == max_actions_per_game)\n",
    "\n",
    "        exp = (s, a, r, new_s, terminate)\n",
    "        loss = compute_loss(loss_fn, q_network, exp, gamma)\n",
    "        update_weights(qnn_optimizer, loss)\n",
    "        s = new_s\n",
    "\n",
    "        total_loss += loss.item()\n",
    "        if terminate:\n",
    "            writer.add_scalar(\"train/loss\", total_loss/actions_taken, i)\n",
    "            writer.add_scalar(\"train/actions\", actions_taken, i)\n",
    "            pbar.set_postfix_str(f\"actions_taken={actions_taken}\", refresh=False)\n",
    "            break\n",
    "\n",
    "    eps = compute_epsilon(eps, delta_epsilon=1 / epochs, epsilon_min=0.1)\n",
    "\n",
    "writer.flush()"
   ],
   "metadata": {
    "collapsed": false
   }
  },
  {
   "cell_type": "code",
   "execution_count": 53,
   "outputs": [
    {
     "data": {
      "text/plain": "array([['+', '-', '↓', '↓'],\n       ['↑', 'W', '↓', '↓'],\n       ['↑', '←', '←', '←'],\n       ['↑', '↑', '↑', '↑']], dtype='<U2')"
     },
     "execution_count": 53,
     "metadata": {},
     "output_type": "execute_result"
    }
   ],
   "source": [
    "gw = Gridworld(size=4, mode='static')\n",
    "render_strategy(gw, q_network)"
   ],
   "metadata": {
    "collapsed": false
   }
  },
  {
   "cell_type": "code",
   "execution_count": 29,
   "outputs": [
    {
     "data": {
      "text/plain": "<Figure size 640x480 with 1 Axes>",
      "image/png": "[encoded data removed]"
     },
     "metadata": {},
     "output_type": "display_data"
    }
   ],
   "source": [
    "gw = Gridworld(size=4, mode='static')\n",
    "st_ = gw.board.render_np().reshape(1, 64)\n",
    "st = torch.from_numpy(st_).float()\n",
    "q_vals = q_network(st).detach().numpy()\n",
    "plt.scatter(x=range(4), y=q_vals);"
   ],
   "metadata": {
    "collapsed": false
   }
  },
  {
   "cell_type": "code",
   "execution_count": null,
   "outputs": [],
   "source": [],
   "metadata": {
    "collapsed": false
   }
  }
 ],
 "metadata": {
  "kernelspec": {
   "display_name": "Python 3",
   "language": "python",
   "name": "python3"
  },
  "language_info": {
   "codemirror_mode": {
    "name": "ipython",
    "version": 2
   },
   "file_extension": ".py",
   "mimetype": "text/x-python",
   "name": "python",
   "nbconvert_exporter": "python",
   "pygments_lexer": "ipython2",
   "version": "2.7.6"
  }
 },
 "nbformat": 4,
 "nbformat_minor": 0
}
