{
 "cells": [
  {
   "cell_type": "code",
   "execution_count": 28,
   "metadata": {
    "collapsed": true
   },
   "outputs": [],
   "source": [
    "import random\n",
    "import numpy as np\n",
    "import matplotlib.pyplot as plt\n",
    "from tqdm.notebook import trange\n",
    "from collections import deque\n",
    "\n",
    "import torch\n",
    "from torch.utils.tensorboard import SummaryWriter\n",
    "\n",
    "from Gridworld import Gridworld"
   ]
  },
  {
   "cell_type": "markdown",
   "source": [
    "Run `tensorboard` using `tensorboard --logdirs=runs`"
   ],
   "metadata": {
    "collapsed": false
   }
  },
  {
   "cell_type": "code",
   "execution_count": 94,
   "outputs": [],
   "source": [
    "def render_strategy(game, model):\n",
    "    action_set_vis = {0: '↑', 1: '↓', 2: '←', 3: '→'}\n",
    "    occupied = [game.board.components[piece].pos\n",
    "                for piece in [\"Goal\", \"Pit\", \"Wall\"]]\n",
    "    game_render = game.display()\n",
    "    state_len = 4*game.board.size**2\n",
    "    for row in range(game.board.size):\n",
    "        for col in range(game.board.size):\n",
    "            if (row, col) not in occupied:\n",
    "                game.board.movePiece(\"Player\", (row, col))\n",
    "                game_state_ = game.board.render_np().reshape(1, state_len)\n",
    "                game_state = torch.from_numpy(game_state_).float()\n",
    "                q_predicted = model(game_state)\n",
    "                action_ = torch.argmax(q_predicted).item()\n",
    "                action = action_set_vis[action_]\n",
    "                game_render[row, col] = action\n",
    "    return game_render"
   ],
   "metadata": {
    "collapsed": false
   }
  },
  {
   "cell_type": "code",
   "execution_count": 95,
   "outputs": [],
   "source": [
    "def create_q_network(size, h1_size=150, h2_size=100):\n",
    "    return torch.nn.Sequential(\n",
    "        torch.nn.Linear(4*size**2, h1_size),\n",
    "        torch.nn.ReLU(),\n",
    "        torch.nn.Linear(h1_size, h2_size),\n",
    "        torch.nn.ReLU(),\n",
    "        torch.nn.Linear(h2_size, 4))"
   ],
   "metadata": {
    "collapsed": false
   }
  },
  {
   "cell_type": "code",
   "execution_count": 96,
   "outputs": [],
   "source": [
    "def compute_epsilon(epsilon_current, delta_epsilon, epsilon_min):\n",
    "    epsilon_new = epsilon_current - delta_epsilon\n",
    "    if epsilon_new < epsilon_min:\n",
    "        epsilon_new = epsilon_min\n",
    "    return epsilon_new"
   ],
   "metadata": {
    "collapsed": false
   }
  },
  {
   "cell_type": "code",
   "execution_count": 97,
   "outputs": [],
   "source": [
    "action_set = {0: 'u', 1: 'd', 2: 'l', 3: 'r'}\n",
    "\n",
    "def take_action(game, action, noise_level=0.1):\n",
    "    if action is not None:\n",
    "        game_action = action_set[action]\n",
    "        game.makeMove(game_action)\n",
    "        reward = game.reward()\n",
    "    else:\n",
    "        reward = None\n",
    "    state_len = 4*game.board.size**2\n",
    "    new_state_ = game.board.render_np().reshape(1, state_len) + noise_level*np.random.rand(1, state_len)\n",
    "    new_state = torch.from_numpy(new_state_).float()\n",
    "    return new_state, reward"
   ],
   "metadata": {
    "collapsed": false
   }
  },
  {
   "cell_type": "code",
   "execution_count": 98,
   "outputs": [],
   "source": [
    "def choose_action(model, state, epsilon):\n",
    "    q_values = model(state)\n",
    "    q_values_ = q_values.data.numpy()\n",
    "    if random.random() < epsilon:\n",
    "        action = np.random.randint(0, 4)\n",
    "    else:\n",
    "        action = np.argmax(q_values_)\n",
    "    return action, q_values"
   ],
   "metadata": {
    "collapsed": false
   }
  },
  {
   "cell_type": "code",
   "execution_count": 99,
   "outputs": [],
   "source": [
    "def compute_loss(loss_function, model, experience, discounting_factor, minibatch_size):\n",
    "    if len(experience) >= minibatch_size:\n",
    "        minibatch = random.sample(experience, minibatch_size)\n",
    "        states = torch.cat([s_ for (s_, a_, r_, new_s_, done_) in minibatch])\n",
    "        actions = torch.Tensor([a_ for (s_, a_, r_, new_s_, done_) in minibatch])\n",
    "        rewards = torch.Tensor([r_ for (s_, a_, r_, new_s_, done_) in minibatch])\n",
    "        new_states = torch.cat([new_s_ for (s_, a_, r_, new_s_, done_) in minibatch])\n",
    "        done = torch.Tensor([done_ for (s_, a_, r_, new_s_, done_) in minibatch])\n",
    "\n",
    "        q_values = model(states)\n",
    "        with torch.no_grad():\n",
    "            new_q_values = model(new_states)\n",
    "\n",
    "        max_q_value = torch.max(new_q_values, dim=1)[0]\n",
    "        target = (rewards + discounting_factor * (1 - done) * max_q_value).reshape(minibatch_size)\n",
    "        predict = q_values.gather(dim=1, index=actions.long().unsqueeze(dim=1)).squeeze().reshape(minibatch_size)\n",
    "        return loss_function(predict, target.detach())"
   ],
   "metadata": {
    "collapsed": false
   }
  },
  {
   "cell_type": "code",
   "execution_count": 100,
   "outputs": [],
   "source": [
    "def create_loss_and_optimizer(model, learning_rate):\n",
    "    loss_function = torch.nn.MSELoss()\n",
    "    optimizer = torch.optim.Adam(model.parameters(), lr=learning_rate)\n",
    "    return loss_function, optimizer"
   ],
   "metadata": {
    "collapsed": false
   }
  },
  {
   "cell_type": "code",
   "execution_count": 101,
   "outputs": [],
   "source": [
    "def update_weights(optimizer, loss_value):\n",
    "    optimizer.zero_grad()\n",
    "    loss_value.backward()\n",
    "    optimizer.step()"
   ],
   "metadata": {
    "collapsed": false
   }
  },
  {
   "cell_type": "code",
   "execution_count": 102,
   "outputs": [],
   "source": [
    "game_mode = 'random'\n",
    "game_size = 6"
   ],
   "metadata": {
    "collapsed": false
   }
  },
  {
   "cell_type": "code",
   "execution_count": 103,
   "outputs": [
    {
     "data": {
      "text/plain": "array([['↑', '↑', '↑', '↑', '↑', '↑'],\n       ['↑', '↑', 'W', '↑', '↑', '↑'],\n       ['↑', '↑', '↑', '↑', '↑', '↑'],\n       ['↑', '↑', '↑', '↑', '↑', '+'],\n       ['↑', '↑', '↑', '-', '↑', '↑'],\n       ['↑', '↑', '↑', '↑', '↑', '↑']], dtype='<U2')"
     },
     "execution_count": 103,
     "metadata": {},
     "output_type": "execute_result"
    }
   ],
   "source": [
    "q_network = create_q_network(size=game_size)\n",
    "\n",
    "gw = Gridworld(size=game_size, mode=game_mode)\n",
    "render_strategy(gw, q_network)"
   ],
   "metadata": {
    "collapsed": false
   }
  },
  {
   "cell_type": "code",
   "execution_count": 104,
   "outputs": [
    {
     "data": {
      "text/plain": "  0%|          | 0/2000 [00:00<?, ?it/s]",
      "application/vnd.jupyter.widget-view+json": {
       "version_major": 2,
       "version_minor": 0,
       "model_id": "6c50d641798a416fbdfd0b8ca4a26a50"
      }
     },
     "metadata": {},
     "output_type": "display_data"
    }
   ],
   "source": [
    "gamma = 0.9\n",
    "eps = 1.0\n",
    "\n",
    "epochs = 2000\n",
    "losses = []\n",
    "actions_per_game = []\n",
    "max_actions_per_game = 50\n",
    "\n",
    "experience_size = 1000\n",
    "batch_size = 200\n",
    "\n",
    "exp = deque(maxlen=experience_size)\n",
    "writer = SummaryWriter(flush_secs=1)\n",
    "\n",
    "loss_fn, qnn_optimizer = create_loss_and_optimizer(q_network, 1e-3)\n",
    "for i in (pbar := trange(epochs)):\n",
    "\n",
    "    gw = Gridworld(size=game_size, mode=game_mode)\n",
    "    s, _ = take_action(gw, action=None)\n",
    "\n",
    "    actions_taken = 0\n",
    "    total_loss = 0\n",
    "    while True:\n",
    "        a, q = choose_action(q_network, s, eps)\n",
    "\n",
    "        new_s, r = take_action(gw, a)\n",
    "        actions_taken += 1\n",
    "        terminate = (r != -1) or \\\n",
    "                    (actions_taken == max_actions_per_game)\n",
    "\n",
    "        exp.append((s, a, r, new_s, terminate))\n",
    "        loss = compute_loss(loss_fn, q_network, exp, gamma, batch_size)\n",
    "        if loss is not None:\n",
    "            update_weights(qnn_optimizer, loss)\n",
    "            total_loss += loss.item()\n",
    "\n",
    "        s = new_s\n",
    "\n",
    "        if terminate:\n",
    "            writer.add_scalar(\"train/loss\", total_loss/actions_taken, i)\n",
    "            writer.add_scalar(\"train/actions\", actions_taken, i)\n",
    "            pbar.set_postfix_str(f\"actions_taken={actions_taken}\", refresh=False)\n",
    "            break\n",
    "\n",
    "    eps = compute_epsilon(eps, delta_epsilon=1 / epochs, epsilon_min=0.1)\n",
    "\n",
    "writer.flush()"
   ],
   "metadata": {
    "collapsed": false
   }
  },
  {
   "cell_type": "code",
   "execution_count": 105,
   "outputs": [
    {
     "data": {
      "text/plain": "array([['→', '→', '→', '→', '↓', '→'],\n       ['→', '+', '←', '→', '↓', '←'],\n       ['←', '↓', '↓', '↓', '→', '↑'],\n       ['→', '↓', 'W', '→', '→', '→'],\n       ['←', '→', '→', '↓', '↑', '←'],\n       ['←', '↑', '↓', '-', '→', '↓']], dtype='<U2')"
     },
     "execution_count": 105,
     "metadata": {},
     "output_type": "execute_result"
    }
   ],
   "source": [
    "gw = Gridworld(size=game_size, mode=game_mode)\n",
    "render_strategy(gw, q_network)"
   ],
   "metadata": {
    "collapsed": false
   }
  },
  {
   "cell_type": "code",
   "execution_count": 21,
   "outputs": [
    {
     "data": {
      "text/plain": "<Figure size 640x480 with 1 Axes>",
      "image/png": "[encoded data removed]"
     },
     "metadata": {},
     "output_type": "display_data"
    }
   ],
   "source": [
    "# gw = Gridworld(size=4, mode='static')\n",
    "st_ = gw.board.render_np().reshape(1, 64)\n",
    "st = torch.from_numpy(st_).float()\n",
    "q_vals = q_network(st).detach().numpy()\n",
    "plt.scatter(x=range(4), y=q_vals);"
   ],
   "metadata": {
    "collapsed": false
   }
  },
  {
   "cell_type": "code",
   "execution_count": null,
   "outputs": [],
   "source": [],
   "metadata": {
    "collapsed": false
   }
  }
 ],
 "metadata": {
  "kernelspec": {
   "display_name": "Python 3",
   "language": "python",
   "name": "python3"
  },
  "language_info": {
   "codemirror_mode": {
    "name": "ipython",
    "version": 2
   },
   "file_extension": ".py",
   "mimetype": "text/x-python",
   "name": "python",
   "nbconvert_exporter": "python",
   "pygments_lexer": "ipython2",
   "version": "2.7.6"
  }
 },
 "nbformat": 4,
 "nbformat_minor": 0
}
